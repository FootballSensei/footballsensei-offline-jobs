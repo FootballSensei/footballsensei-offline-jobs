{
 "cells": [
  {
   "cell_type": "code",
   "execution_count": null,
   "metadata": {},
   "outputs": [],
   "source": [
    "import pyodbc\n",
    "from secrets import CONNECTION_STRING, SQL_ALCHEMY\n",
    "\n",
    "conn = pyodbc.connect(CONNECTION_STRING, autocommit=True)\n",
    "\n",
    "table_name = 'MatchData'\n",
    "\n",
    "create_table_sql = f\"\"\"CREATE TABLE {table_name} (\n",
    "    MATCHDATE date,\n",
    "    FTR varchar(2),\n",
    "    HTP float,\n",
    "    ATP float,\n",
    "    HM1_L float,\n",
    "    HM1_D float,\n",
    "    HM1_W float,\n",
    "    HM1_M float,\n",
    "    HM2_L float,\n",
    "    HM2_D float,\n",
    "    HM2_W float,\n",
    "    HM2_M float,\n",
    "    HM3_L float,\n",
    "    HM3_D float,\n",
    "    HM3_W float,\n",
    "    HM3_M float,\n",
    "    AM1_L float,\n",
    "    AM1_D float,\n",
    "    AM1_W float,\n",
    "    AM1_M float,\n",
    "    AM2_L float,\n",
    "    AM2_D float,\n",
    "    AM2_W float,\n",
    "    AM2_M float,\n",
    "    AM3_L float,\n",
    "    AM3_D float,\n",
    "    AM3_W float,\n",
    "    AM3_M float,\n",
    "    HTGD float,\n",
    "    ATGD float,\n",
    "    DiffFormPts float,\n",
    "    HomeTeamName varchar(50),\n",
    "    AwayTeamName varchar(50)\n",
    ");\"\"\"\n",
    "\n",
    "cursor = conn.cursor()\n",
    "cursor.execute(create_table_sql)\n",
    "\n",
    "cursor.commit()\n",
    "\n",
    "cursor.close()"
   ]
  },
  {
   "cell_type": "code",
   "execution_count": null,
   "metadata": {},
   "outputs": [],
   "source": [
    "import sqlalchemy\n",
    "import pyodbc\n",
    "import pandas as pd\n",
    "\n",
    "engine = sqlalchemy.create_engine(SQL_ALCHEMY, echo=False)\n",
    "\n",
    "\n",
    "df = pd.read_csv('PL_Match_Data.csv')\n",
    "df.to_sql('MatchData', con=engine, if_exists='append', index=False)\n",
    "\n",
    "conn.close()"
   ]
  },
  {
   "cell_type": "code",
   "execution_count": null,
   "metadata": {},
   "outputs": [],
   "source": [
    "import requests\n",
    "\n",
    "matches_api = 'https://livescore-api.com/api-client/scores/history.json?competition_id=2&key=oE0Ap0OZQu7rMokc&secret=tLFH3Vht7xda02voHvZ6wN6mhdN4C7h5&from=2022-08-05&to=2023-05-28'\n",
    "response1 = requests.get(matches_api)\n",
    "response1.json()['data']['match']"
   ]
  },
  {
   "cell_type": "code",
   "execution_count": null,
   "metadata": {},
   "outputs": [],
   "source": [
    "response1.json()['data']['match'][0]\n",
    "\n",
    "fixture_id = response1.json()['data']['match'][0]['id']\n",
    "\n",
    "api_lineups = f'https://livescore-api.com/api-client/matches/lineups.json?match_id={fixture_id}&key=oE0Ap0OZQu7rMokc&secret=tLFH3Vht7xda02voHvZ6wN6mhdN4C7h5'\n",
    "\n",
    "response2 = requests.get(api_lineups)"
   ]
  },
  {
   "cell_type": "code",
   "execution_count": null,
   "metadata": {},
   "outputs": [],
   "source": [
    "response2.json()['data']['lineup']['home']['players']"
   ]
  },
  {
   "cell_type": "code",
   "execution_count": null,
   "metadata": {},
   "outputs": [],
   "source": [
    "import pandas as pd\n",
    "import requests\n",
    "\n",
    "columns = ['Date', 'HomeTeam', 'AwayTeam', 'HomeLineup', 'AwayLineup']\n",
    "lineup_data = pd.DataFrame(columns=columns)\n",
    "\n",
    "for i in range(1, 8):\n",
    "    next_link = f'https://livescore-api.com/api-client/scores/history.json?key=oE0Ap0OZQu7rMokc&to=2023-05-28&competition_id=2&from=2022-08-05&secret=tLFH3Vht7xda02voHvZ6wN6mhdN4C7h5&page={i}'\n",
    "    response1 = requests.get(next_link)\n",
    "    for j in range(len(response1.json()['data']['match'])):\n",
    "        match_id = response1.json()['data']['match'][j]['id']\n",
    "        api_lineups = f'https://livescore-api.com/api-client/matches/lineups.json?match_id={match_id}&key=oE0Ap0OZQu7rMokc&secret=tLFH3Vht7xda02voHvZ6wN6mhdN4C7h5'\n",
    "        response2 = requests.get(api_lineups)\n",
    "        new_data = {'Date': response1.json()['data']['match'][j]['date'], \n",
    "                    'HomeTeam': response1.json()['data']['match'][j]['home_name'],\n",
    "                    'AwayTeam': response1.json()['data']['match'][j]['away_name'],\n",
    "                    'HomeLineup': str([d['name'] for d in response2.json()['data']['lineup']['home']['players'][0:11]]),\n",
    "                    'AwayLineup': str([d['name'] for d in response2.json()['data']['lineup']['away']['players'][0:11]])}\n",
    "        lineup_data = pd.concat([lineup_data, pd.DataFrame([new_data])], ignore_index=True)\n",
    "\n",
    "lineup_data.to_csv('PL_Lineup_Data2.csv', index=False)"
   ]
  },
  {
   "cell_type": "code",
   "execution_count": null,
   "metadata": {},
   "outputs": [],
   "source": [
    "id_matches = [response1.json()['data']['match'][j]['id'] for j in range(len(response1.json()['data']['match']))]\n",
    "id_matches\n",
    "\n",
    "api_lineups = f''\n",
    "response2 = requests.get(api_lineups)\n",
    "new_data = {'Date': response1.json()['data']['match'][j]['date'], \n",
    "                    'HomeTeam': response1.json()['data']['match'][j]['home_name'],\n",
    "                    'AwayTeam': response1.json()['data']['match'][j]['away_name'],\n",
    "                    'HomeLineup': str([d['name'] for d in response2.json()['data']['lineup']['home']['players'][0:11]]),\n",
    "                    'AwayLineup': str([d['name'] for d in response2.json()['data']['lineup']['away']['players'][0:11]])}\n",
    "\n",
    "new_data"
   ]
  },
  {
   "cell_type": "code",
   "execution_count": null,
   "metadata": {},
   "outputs": [],
   "source": [
    "import numpy as np\n",
    "\n",
    "dataframe_new = pd.read_csv('PL_Lineup_Data2.csv')\n",
    "\n",
    "dataframe_new['HomeTeam'] = np.where(dataframe_new['HomeTeam'].astype(str).str[:3] != 'AFC',\n",
    "                                     dataframe_new['HomeTeam'].astype(str) + ' FC',\n",
    "                                     dataframe_new['HomeTeam'].astype(str))\n",
    "\n",
    "dataframe_new['AwayTeam'] = np.where(dataframe_new['AwayTeam'].astype(str).str[:3] != 'AFC',\n",
    "                                     dataframe_new['AwayTeam'].astype(str) + ' FC',\n",
    "                                     dataframe_new['AwayTeam'].astype(str))\n",
    "\n",
    "dataframe_new"
   ]
  },
  {
   "cell_type": "code",
   "execution_count": null,
   "metadata": {},
   "outputs": [],
   "source": [
    "conn = pyodbc.connect(CONNECTION_STRING, autocommit=True)\n",
    "\n",
    "table_name = 'LineupData'\n",
    "\n",
    "create_table_sql = f\"\"\"CREATE TABLE {table_name} (\n",
    "                        Date datetime,\n",
    "                        HomeTeam varchar(255),\n",
    "                        AwayTeam varchar(255),\n",
    "                        HomeLineup varchar(255),\n",
    "                        AwayLineup varchar(255)\n",
    "                        )\"\"\"\n",
    "                        \n",
    "cursor = conn.cursor()\n",
    "cursor.execute(create_table_sql)\n",
    "cursor.commit()\n",
    "\n",
    "engine = sqlalchemy.create_engine(SQL_ALCHEMY, echo=False)\n",
    "\n",
    "dataframe_new.to_sql('LineupData', con=engine, if_exists='append', index=False)\n",
    "\n",
    "conn.close()"
   ]
  },
  {
   "cell_type": "code",
   "execution_count": null,
   "metadata": {},
   "outputs": [],
   "source": [
    "import numpy as np\n",
    "import pandas as pd \n",
    "import pyodbc\n",
    "import sqlalchemy \n",
    "\n",
    "dataframe_new = pd.read_csv('PL_Lineup_Data2.csv')\n",
    "\n",
    "dataframe_new['HomeTeam'] = np.where(dataframe_new['HomeTeam'].astype(str).str[:3] != 'AFC',\n",
    "                                     dataframe_new['HomeTeam'].astype(str) + ' FC',\n",
    "                                     dataframe_new['HomeTeam'].astype(str))\n",
    "\n",
    "dataframe_new['AwayTeam'] = np.where(dataframe_new['AwayTeam'].astype(str).str[:3] != 'AFC',\n",
    "                                     dataframe_new['AwayTeam'].astype(str) + ' FC',\n",
    "                                     dataframe_new['AwayTeam'].astype(str))\n",
    "\n",
    "engine = sqlalchemy.create_engine(SQL_ALCHEMY, echo=False)\n",
    "\n",
    "dataframe_new.to_sql('LineupData', con=engine, if_exists='append', index=False)"
   ]
  }
 ],
 "metadata": {
  "kernelspec": {
   "display_name": "Python 3",
   "language": "python",
   "name": "python3"
  },
  "language_info": {
   "codemirror_mode": {
    "name": "ipython",
    "version": 3
   },
   "file_extension": ".py",
   "mimetype": "text/x-python",
   "name": "python",
   "nbconvert_exporter": "python",
   "pygments_lexer": "ipython3",
   "version": "3.11.3"
  },
  "orig_nbformat": 4
 },
 "nbformat": 4,
 "nbformat_minor": 2
}
